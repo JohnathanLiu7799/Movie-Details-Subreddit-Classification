{
 "cells": [
  {
   "cell_type": "markdown",
   "id": "be7a7011-24ad-4916-8f5b-6aa0d92b0184",
   "metadata": {},
   "source": [
    "# Imports"
   ]
  },
  {
   "cell_type": "code",
   "execution_count": 3,
   "id": "64b7eebc-9c84-49d2-847d-afc7f2dad9c8",
   "metadata": {},
   "outputs": [],
   "source": [
    "import pandas as pd\n",
    "import numpy as np\n",
    "import seaborn as sns\n",
    "import matplotlib.pyplot as plt"
   ]
  },
  {
   "cell_type": "code",
   "execution_count": 4,
   "id": "1c10f19d-c4c7-4cc5-a143-7f93b7aaccd8",
   "metadata": {},
   "outputs": [],
   "source": [
    "#import sklearn stuff here"
   ]
  },
  {
   "cell_type": "code",
   "execution_count": 5,
   "id": "46c8cd43-b503-4af8-8296-455d64262993",
   "metadata": {},
   "outputs": [
    {
     "name": "stderr",
     "output_type": "stream",
     "text": [
      "C:\\ProgramData\\Anaconda3\\envs\\dsi-111\\lib\\site-packages\\IPython\\core\\interactiveshell.py:3165: DtypeWarning: Columns (8,19,84,85,90,92,93,94) have mixed types.Specify dtype option on import or set low_memory=False.\n",
      "  has_raised = await self.run_ast_nodes(code_ast.body, cell_name,\n"
     ]
    }
   ],
   "source": [
    "df = pd.read_csv('./data/subreddit_posts.csv')"
   ]
  },
  {
   "cell_type": "code",
   "execution_count": 6,
   "id": "da205da6-ec17-49d1-b631-c214a79931f4",
   "metadata": {},
   "outputs": [
    {
     "data": {
      "text/plain": [
       "Index(['all_awardings', 'allow_live_comments', 'author',\n",
       "       'author_flair_css_class', 'author_flair_richtext', 'author_flair_text',\n",
       "       'author_flair_type', 'author_fullname', 'author_is_blocked',\n",
       "       'author_patreon_flair', 'author_premium', 'awarders', 'can_mod_post',\n",
       "       'contest_mode', 'created_utc', 'domain', 'full_link', 'gildings', 'id',\n",
       "       'is_created_from_ads_ui', 'is_crosspostable', 'is_meta',\n",
       "       'is_original_content', 'is_reddit_media_domain', 'is_robot_indexable',\n",
       "       'is_self', 'is_video', 'link_flair_background_color',\n",
       "       'link_flair_richtext', 'link_flair_text_color', 'link_flair_type',\n",
       "       'locked', 'media_only', 'no_follow', 'num_comments', 'num_crossposts',\n",
       "       'over_18', 'parent_whitelist_status', 'permalink', 'pinned',\n",
       "       'post_hint', 'preview', 'pwls', 'retrieved_on', 'score', 'selftext',\n",
       "       'send_replies', 'spoiler', 'stickied', 'subreddit', 'subreddit_id',\n",
       "       'subreddit_subscribers', 'subreddit_type', 'suggested_sort',\n",
       "       'thumbnail', 'thumbnail_height', 'thumbnail_width', 'title',\n",
       "       'total_awards_received', 'treatment_tags', 'upvote_ratio', 'url',\n",
       "       'url_overridden_by_dest', 'whitelist_status', 'wls',\n",
       "       'link_flair_template_id', 'link_flair_text', 'media', 'media_embed',\n",
       "       'secure_media', 'secure_media_embed', 'author_flair_background_color',\n",
       "       'author_flair_text_color', 'media_metadata', 'removed_by_category',\n",
       "       'banned_by', 'author_flair_template_id', 'gallery_data', 'is_gallery',\n",
       "       'author_cakeday', 'gilded', 'steward_reports', 'removed_by',\n",
       "       'updated_utc', 'og_description', 'og_title', 'rte_mode', 'author_id',\n",
       "       'brand_safe', 'link_flair_css_class', 'poll_data', 'edited',\n",
       "       'crosspost_parent', 'crosspost_parent_list', 'distinguished'],\n",
       "      dtype='object')"
      ]
     },
     "execution_count": 6,
     "metadata": {},
     "output_type": "execute_result"
    }
   ],
   "source": [
    "df.columns"
   ]
  },
  {
   "cell_type": "code",
   "execution_count": 7,
   "id": "1b391eac-6c5a-4bbf-9459-1e135924435f",
   "metadata": {},
   "outputs": [
    {
     "data": {
      "text/plain": [
       "0    8684\n",
       "1    6182\n",
       "Name: subreddit, dtype: int64"
      ]
     },
     "execution_count": 7,
     "metadata": {},
     "output_type": "execute_result"
    }
   ],
   "source": [
    "df['subreddit'].value_counts()"
   ]
  },
  {
   "cell_type": "markdown",
   "id": "26a16e83-fdf6-4ad6-aa74-621038d97af9",
   "metadata": {},
   "source": [
    "## Removing Media Only Posts"
   ]
  },
  {
   "cell_type": "code",
   "execution_count": 8,
   "id": "ab8b941c-f001-477e-9fd8-b604c798945c",
   "metadata": {},
   "outputs": [],
   "source": [
    "df['title_len'] = df['title'].str.split().str.len()"
   ]
  },
  {
   "cell_type": "code",
   "execution_count": 9,
   "id": "e2d411ba-88f5-4e8a-9cc0-eee8b026acf0",
   "metadata": {},
   "outputs": [
    {
     "data": {
      "text/html": [
       "<div>\n",
       "<style scoped>\n",
       "    .dataframe tbody tr th:only-of-type {\n",
       "        vertical-align: middle;\n",
       "    }\n",
       "\n",
       "    .dataframe tbody tr th {\n",
       "        vertical-align: top;\n",
       "    }\n",
       "\n",
       "    .dataframe thead th {\n",
       "        text-align: right;\n",
       "    }\n",
       "</style>\n",
       "<table border=\"1\" class=\"dataframe\">\n",
       "  <thead>\n",
       "    <tr style=\"text-align: right;\">\n",
       "      <th></th>\n",
       "      <th>title_len</th>\n",
       "      <th>title</th>\n",
       "    </tr>\n",
       "  </thead>\n",
       "  <tbody>\n",
       "    <tr>\n",
       "      <th>7</th>\n",
       "      <td>18</td>\n",
       "      <td>In Avengers age of Ultron, Hawkeye finishes ki...</td>\n",
       "    </tr>\n",
       "    <tr>\n",
       "      <th>8</th>\n",
       "      <td>6</td>\n",
       "      <td>Hidden sex scene in Spider-man 2002</td>\n",
       "    </tr>\n",
       "    <tr>\n",
       "      <th>32</th>\n",
       "      <td>29</td>\n",
       "      <td>In Spider-Man (2002) director Sam Raimi came a...</td>\n",
       "    </tr>\n",
       "    <tr>\n",
       "      <th>304</th>\n",
       "      <td>25</td>\n",
       "      <td>The Dark Knight Rises (2012): Bane nods to one...</td>\n",
       "    </tr>\n",
       "    <tr>\n",
       "      <th>368</th>\n",
       "      <td>17</td>\n",
       "      <td>When Moon Knight punches the bad guy, its just...</td>\n",
       "    </tr>\n",
       "    <tr>\n",
       "      <th>...</th>\n",
       "      <td>...</td>\n",
       "      <td>...</td>\n",
       "    </tr>\n",
       "    <tr>\n",
       "      <th>14413</th>\n",
       "      <td>27</td>\n",
       "      <td>[Planes, Trains &amp;amp; Automobiles] Neil's wife...</td>\n",
       "    </tr>\n",
       "    <tr>\n",
       "      <th>14465</th>\n",
       "      <td>27</td>\n",
       "      <td>In the movie Now You See Me FBI agent Dylan Rh...</td>\n",
       "    </tr>\n",
       "    <tr>\n",
       "      <th>14479</th>\n",
       "      <td>28</td>\n",
       "      <td>When Baby's face is seen on the TV for suspect...</td>\n",
       "    </tr>\n",
       "    <tr>\n",
       "      <th>14480</th>\n",
       "      <td>30</td>\n",
       "      <td>In 'Baby Driver' when Baby's face is seen on T...</td>\n",
       "    </tr>\n",
       "    <tr>\n",
       "      <th>14550</th>\n",
       "      <td>39</td>\n",
       "      <td>In this scene in \"War for the Planet of the Ap...</td>\n",
       "    </tr>\n",
       "  </tbody>\n",
       "</table>\n",
       "<p>398 rows × 2 columns</p>\n",
       "</div>"
      ],
      "text/plain": [
       "       title_len                                              title\n",
       "7             18  In Avengers age of Ultron, Hawkeye finishes ki...\n",
       "8              6                Hidden sex scene in Spider-man 2002\n",
       "32            29  In Spider-Man (2002) director Sam Raimi came a...\n",
       "304           25  The Dark Knight Rises (2012): Bane nods to one...\n",
       "368           17  When Moon Knight punches the bad guy, its just...\n",
       "...          ...                                                ...\n",
       "14413         27  [Planes, Trains &amp; Automobiles] Neil's wife...\n",
       "14465         27  In the movie Now You See Me FBI agent Dylan Rh...\n",
       "14479         28  When Baby's face is seen on the TV for suspect...\n",
       "14480         30  In 'Baby Driver' when Baby's face is seen on T...\n",
       "14550         39  In this scene in \"War for the Planet of the Ap...\n",
       "\n",
       "[398 rows x 2 columns]"
      ]
     },
     "execution_count": 9,
     "metadata": {},
     "output_type": "execute_result"
    }
   ],
   "source": [
    "df[df['is_video'] == True][['title_len','title']]"
   ]
  },
  {
   "cell_type": "markdown",
   "id": "72c423b6-da9f-479e-8270-fe7c5c08618e",
   "metadata": {},
   "source": [
    "There are media posts that still have titles. We shouldnt filter them out by media content then."
   ]
  },
  {
   "cell_type": "code",
   "execution_count": 10,
   "id": "ab8d3da8-5cd5-4c19-9d11-9d4d6d899bb8",
   "metadata": {},
   "outputs": [
    {
     "data": {
      "image/png": "[encoded data removed]",
      "text/plain": [
       "<Figure size 432x288 with 1 Axes>"
      ]
     },
     "metadata": {
      "needs_background": "light"
     },
     "output_type": "display_data"
    }
   ],
   "source": [
    "sns.histplot(data = df,\n",
    "             x = 'title_len',\n",
    "             kde=True,\n",
    "            bins=15);\n",
    "\n",
    "plt.xlabel('Title Length (Words)');"
   ]
  },
  {
   "cell_type": "markdown",
   "id": "ab4c7bd1-9001-43e9-989d-db3f513a696d",
   "metadata": {},
   "source": [
    "Relatively normally distributed"
   ]
  },
  {
   "cell_type": "code",
   "execution_count": 11,
   "id": "fab9c9ca-1f27-41e7-9fed-0af079ca330c",
   "metadata": {},
   "outputs": [
    {
     "data": {
      "text/plain": [
       "0                             Spider-Man No Way Home leak!\n",
       "3        Krampus - The Christmas Demon with Horns and C...\n",
       "8                      Hidden sex scene in Spider-man 2002\n",
       "19                                       The Santa Clause.\n",
       "62              That’s some serious commitment to his role\n",
       "                               ...                        \n",
       "14838                                    Christopher Cobet\n",
       "14840                                         Hartmut Czok\n",
       "14856                      /r/MovieDetails Discord Server!\n",
       "14857                           LIFE THE HITMANs BODYGUARD\n",
       "14859                                ALEN CREATURE Trailer\n",
       "Name: title, Length: 1617, dtype: object"
      ]
     },
     "execution_count": 11,
     "metadata": {},
     "output_type": "execute_result"
    }
   ],
   "source": [
    "df[df['title_len'] < 10]['title']"
   ]
  },
  {
   "cell_type": "code",
   "execution_count": 12,
   "id": "550a7854-fef9-419b-92f4-16312a408bb0",
   "metadata": {},
   "outputs": [
    {
     "data": {
      "text/plain": [
       "(1617, 96)"
      ]
     },
     "execution_count": 12,
     "metadata": {},
     "output_type": "execute_result"
    }
   ],
   "source": [
    "df[df['title_len'] < 10].shape"
   ]
  },
  {
   "cell_type": "markdown",
   "id": "8c3c75e3-e6c5-46bd-95d7-8d2e10e7d507",
   "metadata": {},
   "source": [
    "Title with lengths less than 10 tend to be more reliant on media, often only having a title becuase it's required. Will we catch some actual titles? Maybe, but the data will be more usable this way."
   ]
  },
  {
   "cell_type": "code",
   "execution_count": 13,
   "id": "162e5506-4cb6-416c-8bc8-334ffa88ce5c",
   "metadata": {},
   "outputs": [],
   "source": [
    "df = df[df['title_len'] > 10]"
   ]
  },
  {
   "cell_type": "code",
   "execution_count": 14,
   "id": "07834ac2-ffc5-4d6d-a411-a4e956f38d93",
   "metadata": {},
   "outputs": [
    {
     "data": {
      "text/plain": [
       "moderator           863\n",
       "deleted             270\n",
       "automod_filtered    185\n",
       "reddit               78\n",
       "author                7\n",
       "Name: removed_by_category, dtype: int64"
      ]
     },
     "execution_count": 14,
     "metadata": {},
     "output_type": "execute_result"
    }
   ],
   "source": [
    "df['removed_by_category'].value_counts()"
   ]
  },
  {
   "cell_type": "code",
   "execution_count": 15,
   "id": "251d5de2-4fc7-4c23-a41c-9047b26876fb",
   "metadata": {},
   "outputs": [],
   "source": [
    "df = df[df['removed_by_category'].isnull()]"
   ]
  },
  {
   "cell_type": "markdown",
   "id": "7df39984-1279-4f2a-ba2f-48b1a31dac1e",
   "metadata": {},
   "source": [
    "We dont wan't posts that have been removed for whatever reason. Either they break subreddit rules, reddit rules, or for some other reason that may indicate they aren't indicative of what the subreddit is about."
   ]
  },
  {
   "cell_type": "code",
   "execution_count": 16,
   "id": "f7c8067b-e29e-4554-93e9-65d76e237842",
   "metadata": {},
   "outputs": [
    {
     "data": {
      "text/plain": [
       "(11626, 96)"
      ]
     },
     "execution_count": 16,
     "metadata": {},
     "output_type": "execute_result"
    }
   ],
   "source": [
    "df.shape"
   ]
  },
  {
   "cell_type": "code",
   "execution_count": 17,
   "id": "8e8342cf-bcd2-4e25-81db-c876bff0810b",
   "metadata": {},
   "outputs": [
    {
     "data": {
      "text/html": [
       "<div>\n",
       "<style scoped>\n",
       "    .dataframe tbody tr th:only-of-type {\n",
       "        vertical-align: middle;\n",
       "    }\n",
       "\n",
       "    .dataframe tbody tr th {\n",
       "        vertical-align: top;\n",
       "    }\n",
       "\n",
       "    .dataframe thead th {\n",
       "        text-align: right;\n",
       "    }\n",
       "</style>\n",
       "<table border=\"1\" class=\"dataframe\">\n",
       "  <thead>\n",
       "    <tr style=\"text-align: right;\">\n",
       "      <th></th>\n",
       "      <th>title</th>\n",
       "      <th>title_len</th>\n",
       "    </tr>\n",
       "  </thead>\n",
       "  <tbody>\n",
       "    <tr>\n",
       "      <th>36</th>\n",
       "      <td>In Avengers: Endgame (2019), Thor and Korg are...</td>\n",
       "      <td>54</td>\n",
       "    </tr>\n",
       "    <tr>\n",
       "      <th>59</th>\n",
       "      <td>In Iron Man 3 (2013), it is revealed that Pepp...</td>\n",
       "      <td>59</td>\n",
       "    </tr>\n",
       "    <tr>\n",
       "      <th>228</th>\n",
       "      <td>In the extended version of Avatar (2009) there...</td>\n",
       "      <td>51</td>\n",
       "    </tr>\n",
       "    <tr>\n",
       "      <th>245</th>\n",
       "      <td>In Ratatouille (2007), the first time we see E...</td>\n",
       "      <td>55</td>\n",
       "    </tr>\n",
       "    <tr>\n",
       "      <th>258</th>\n",
       "      <td>In every Ryan Reynolds film in recent history ...</td>\n",
       "      <td>52</td>\n",
       "    </tr>\n",
       "    <tr>\n",
       "      <th>...</th>\n",
       "      <td>...</td>\n",
       "      <td>...</td>\n",
       "    </tr>\n",
       "    <tr>\n",
       "      <th>14631</th>\n",
       "      <td>In Batman Begins, a villain from the comics, V...</td>\n",
       "      <td>51</td>\n",
       "    </tr>\n",
       "    <tr>\n",
       "      <th>14658</th>\n",
       "      <td>In Mad Max Fury Road, when Max and Furiosa are...</td>\n",
       "      <td>52</td>\n",
       "    </tr>\n",
       "    <tr>\n",
       "      <th>14708</th>\n",
       "      <td>In Dolores Claiborne, when she is about to sta...</td>\n",
       "      <td>51</td>\n",
       "    </tr>\n",
       "    <tr>\n",
       "      <th>14769</th>\n",
       "      <td>In Gremlins, a photo of character actor Edward...</td>\n",
       "      <td>54</td>\n",
       "    </tr>\n",
       "    <tr>\n",
       "      <th>14788</th>\n",
       "      <td>At the end of \"Goodfellas\" Henry has to drive ...</td>\n",
       "      <td>51</td>\n",
       "    </tr>\n",
       "  </tbody>\n",
       "</table>\n",
       "<p>622 rows × 2 columns</p>\n",
       "</div>"
      ],
      "text/plain": [
       "                                                   title  title_len\n",
       "36     In Avengers: Endgame (2019), Thor and Korg are...         54\n",
       "59     In Iron Man 3 (2013), it is revealed that Pepp...         59\n",
       "228    In the extended version of Avatar (2009) there...         51\n",
       "245    In Ratatouille (2007), the first time we see E...         55\n",
       "258    In every Ryan Reynolds film in recent history ...         52\n",
       "...                                                  ...        ...\n",
       "14631  In Batman Begins, a villain from the comics, V...         51\n",
       "14658  In Mad Max Fury Road, when Max and Furiosa are...         52\n",
       "14708  In Dolores Claiborne, when she is about to sta...         51\n",
       "14769  In Gremlins, a photo of character actor Edward...         54\n",
       "14788  At the end of \"Goodfellas\" Henry has to drive ...         51\n",
       "\n",
       "[622 rows x 2 columns]"
      ]
     },
     "execution_count": 17,
     "metadata": {},
     "output_type": "execute_result"
    }
   ],
   "source": [
    "df[df['title_len']>50][['title','title_len']]"
   ]
  },
  {
   "cell_type": "markdown",
   "id": "86aea8ec-caf8-4bc1-bae7-20fcb082e9a1",
   "metadata": {},
   "source": [
    "Most of the longer titles seem to still be in theme with the subreddit"
   ]
  },
  {
   "cell_type": "code",
   "execution_count": 18,
   "id": "ddee9f2e-b351-4ef3-a097-aebcdd39ccd3",
   "metadata": {},
   "outputs": [
    {
     "data": {
      "text/plain": [
       "Series([], Name: title, dtype: object)"
      ]
     },
     "execution_count": 18,
     "metadata": {},
     "output_type": "execute_result"
    }
   ],
   "source": [
    "df[df['is_created_from_ads_ui']==True]['title']"
   ]
  },
  {
   "cell_type": "markdown",
   "id": "3805d23d-c3f1-4864-aeeb-babc983b2604",
   "metadata": {},
   "source": [
    "There are no posts created from ads ui but if there were we would remove them."
   ]
  },
  {
   "cell_type": "code",
   "execution_count": 19,
   "id": "2e8a9efa-79ff-4e2b-8a7c-89e9abfff3d8",
   "metadata": {},
   "outputs": [
    {
     "data": {
      "text/plain": [
       "Series([], Name: title, dtype: object)"
      ]
     },
     "execution_count": 19,
     "metadata": {},
     "output_type": "execute_result"
    }
   ],
   "source": [
    "df[df['author_is_blocked']==True]['title']"
   ]
  },
  {
   "cell_type": "code",
   "execution_count": 20,
   "id": "2f3385c1-e042-4ce7-be5e-2cab678a5b1f",
   "metadata": {},
   "outputs": [
    {
     "data": {
      "text/plain": [
       "moderators    10\n",
       "Name: banned_by, dtype: int64"
      ]
     },
     "execution_count": 20,
     "metadata": {},
     "output_type": "execute_result"
    }
   ],
   "source": [
    "df['banned_by'].value_counts()"
   ]
  },
  {
   "cell_type": "markdown",
   "id": "a276fcd9-34f7-4b91-b034-6394585d38e2",
   "metadata": {},
   "source": [
    "Assuming this column means blocked from posting, in which case we wouldn't want their posts. Mostly likely caught with when we deleted removed posts but a double check never hurt"
   ]
  },
  {
   "cell_type": "code",
   "execution_count": 21,
   "id": "fd5d7875-3631-4824-88f5-e235328fd905",
   "metadata": {},
   "outputs": [],
   "source": [
    "df = df[['title','subreddit']]"
   ]
  },
  {
   "cell_type": "code",
   "execution_count": 22,
   "id": "fd376f53-9b5c-4f41-a955-4eaffce49cc0",
   "metadata": {},
   "outputs": [
    {
     "data": {
      "text/html": [
       "<div>\n",
       "<style scoped>\n",
       "    .dataframe tbody tr th:only-of-type {\n",
       "        vertical-align: middle;\n",
       "    }\n",
       "\n",
       "    .dataframe tbody tr th {\n",
       "        vertical-align: top;\n",
       "    }\n",
       "\n",
       "    .dataframe thead th {\n",
       "        text-align: right;\n",
       "    }\n",
       "</style>\n",
       "<table border=\"1\" class=\"dataframe\">\n",
       "  <thead>\n",
       "    <tr style=\"text-align: right;\">\n",
       "      <th></th>\n",
       "      <th>title</th>\n",
       "      <th>subreddit</th>\n",
       "    </tr>\n",
       "  </thead>\n",
       "  <tbody>\n",
       "    <tr>\n",
       "      <th>1</th>\n",
       "      <td>In Forrest Gump(1994), Forrest is shown sittin...</td>\n",
       "      <td>1</td>\n",
       "    </tr>\n",
       "    <tr>\n",
       "      <th>2</th>\n",
       "      <td>In Suicide Squad (2016) Katana was late for th...</td>\n",
       "      <td>1</td>\n",
       "    </tr>\n",
       "    <tr>\n",
       "      <th>4</th>\n",
       "      <td>Spider Man No Way Home: Multiverse Leak. Looks...</td>\n",
       "      <td>1</td>\n",
       "    </tr>\n",
       "    <tr>\n",
       "      <th>5</th>\n",
       "      <td>CONFIRMED: The Matrix Resurrections will NOT b...</td>\n",
       "      <td>1</td>\n",
       "    </tr>\n",
       "    <tr>\n",
       "      <th>6</th>\n",
       "      <td>They used the Pirate Bay logo as the backgroun...</td>\n",
       "      <td>1</td>\n",
       "    </tr>\n",
       "    <tr>\n",
       "      <th>...</th>\n",
       "      <td>...</td>\n",
       "      <td>...</td>\n",
       "    </tr>\n",
       "    <tr>\n",
       "      <th>14861</th>\n",
       "      <td>In Prisoners, Paul Dano’s character is named A...</td>\n",
       "      <td>0</td>\n",
       "    </tr>\n",
       "    <tr>\n",
       "      <th>14862</th>\n",
       "      <td>In \"Men in Black\" when Agent K shows Agent J t...</td>\n",
       "      <td>0</td>\n",
       "    </tr>\n",
       "    <tr>\n",
       "      <th>14863</th>\n",
       "      <td>In La La Land, when Mia decides to go back hom...</td>\n",
       "      <td>0</td>\n",
       "    </tr>\n",
       "    <tr>\n",
       "      <th>14864</th>\n",
       "      <td>In Rogue One: A Star Wars Story, you can see a...</td>\n",
       "      <td>0</td>\n",
       "    </tr>\n",
       "    <tr>\n",
       "      <th>14865</th>\n",
       "      <td>In Back to the Future Part II, when Marty is i...</td>\n",
       "      <td>0</td>\n",
       "    </tr>\n",
       "  </tbody>\n",
       "</table>\n",
       "<p>11626 rows × 2 columns</p>\n",
       "</div>"
      ],
      "text/plain": [
       "                                                   title  subreddit\n",
       "1      In Forrest Gump(1994), Forrest is shown sittin...          1\n",
       "2      In Suicide Squad (2016) Katana was late for th...          1\n",
       "4      Spider Man No Way Home: Multiverse Leak. Looks...          1\n",
       "5      CONFIRMED: The Matrix Resurrections will NOT b...          1\n",
       "6      They used the Pirate Bay logo as the backgroun...          1\n",
       "...                                                  ...        ...\n",
       "14861  In Prisoners, Paul Dano’s character is named A...          0\n",
       "14862  In \"Men in Black\" when Agent K shows Agent J t...          0\n",
       "14863  In La La Land, when Mia decides to go back hom...          0\n",
       "14864  In Rogue One: A Star Wars Story, you can see a...          0\n",
       "14865  In Back to the Future Part II, when Marty is i...          0\n",
       "\n",
       "[11626 rows x 2 columns]"
      ]
     },
     "execution_count": 22,
     "metadata": {},
     "output_type": "execute_result"
    }
   ],
   "source": [
    "df"
   ]
  },
  {
   "cell_type": "code",
   "execution_count": 23,
   "id": "07219ee3-f884-4e46-af14-bce3913183a5",
   "metadata": {},
   "outputs": [],
   "source": [
    "df.to_csv('./data/cleaned_posts.csv',index=False)"
   ]
  },
  {
   "cell_type": "code",
   "execution_count": 24,
   "id": "311d4b13-3909-48ff-9f75-d68a8d5dfca5",
   "metadata": {},
   "outputs": [],
   "source": [
    "df[df['subreddit']==1].to_csv('./data/smd_posts.csv',index=False)"
   ]
  },
  {
   "cell_type": "code",
   "execution_count": 25,
   "id": "fefc5346-fbf5-4d1a-8e7f-eb343f988c20",
   "metadata": {},
   "outputs": [],
   "source": [
    "df[df['subreddit']==0].to_csv('./data/md_posts.csv',index=False)"
   ]
  },
  {
   "cell_type": "code",
   "execution_count": null,
   "id": "5c9b0af9-3159-4ed7-ab70-59585e0409d8",
   "metadata": {},
   "outputs": [],
   "source": []
  }
 ],
 "metadata": {
  "kernelspec": {
   "display_name": "Python 3",
   "language": "python",
   "name": "python3"
  },
  "language_info": {
   "codemirror_mode": {
    "name": "ipython",
    "version": 3
   },
   "file_extension": ".py",
   "mimetype": "text/x-python",
   "name": "python",
   "nbconvert_exporter": "python",
   "pygments_lexer": "ipython3",
   "version": "3.8.8"
  }
 },
 "nbformat": 4,
 "nbformat_minor": 5
}
