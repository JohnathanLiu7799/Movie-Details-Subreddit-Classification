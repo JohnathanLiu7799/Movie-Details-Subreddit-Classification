{
 "cells": [
  {
   "cell_type": "markdown",
   "id": "10207c20-e515-4e24-9156-887d466e21ce",
   "metadata": {
    "tags": []
   },
   "source": [
    "# Imports"
   ]
  },
  {
   "cell_type": "code",
   "execution_count": 1,
   "id": "f90b49b1-c572-470b-a68b-4ef25971493a",
   "metadata": {},
   "outputs": [],
   "source": [
    "import requests\n",
    "import pandas as pd"
   ]
  },
  {
   "cell_type": "markdown",
   "id": "3d9a2b20-450c-4923-b6a8-30e3a945d1f9",
   "metadata": {
    "tags": []
   },
   "source": [
    "# Helper Functions"
   ]
  },
  {
   "cell_type": "code",
   "execution_count": 2,
   "id": "e97a1fa3-97f0-424c-9e9a-b42e57147f20",
   "metadata": {},
   "outputs": [],
   "source": [
    "def json_to_dict(url, **kwargs):\n",
    "    params = kwargs['params']\n",
    "    res = requests.get(url, params)\n",
    "    return pd.DataFrame(res.json()['data'])"
   ]
  },
  {
   "cell_type": "code",
   "execution_count": 3,
   "id": "14446b74-226f-456f-9e1c-4aef411290fe",
   "metadata": {},
   "outputs": [],
   "source": [
    "def get_x_days_posts(url, subreddit, days):\n",
    "    \"\"\"\n",
    "    Get all posts since x days in the past\n",
    "    \"\"\"\n",
    "    \n",
    "    agg_df = pd.DataFrame()\n",
    "    \n",
    "    for i in range(1,days+1):\n",
    "        try:\n",
    "            df = json_to_dict(url, params={\n",
    "                'subreddit': subreddit,\n",
    "                'before': f'{i-1}d',\n",
    "                'after': f'{i}d',\n",
    "                'size':500\n",
    "            })\n",
    "\n",
    "            agg_df = pd.concat([agg_df, df], axis=0)\n",
    "        except:\n",
    "            continue\n",
    "        \n",
    "    return agg_df\n",
    "        \n",
    "    "
   ]
  },
  {
   "cell_type": "markdown",
   "id": "79dd2db7-a7f5-48b7-800b-e325198eefe0",
   "metadata": {
    "tags": []
   },
   "source": [
    "# Brainstorming Potential Subreddit Comparisons and Initial Request"
   ]
  },
  {
   "cell_type": "markdown",
   "id": "6f23a429-32f7-4ed0-89fc-40a7ac00fbdd",
   "metadata": {},
   "source": [
    "| pairs              \t|                    \t|\n",
    "|--------------------\t|--------------------\t|\n",
    "| me_irl             \t| 2meirl4meirl       \t|\n",
    "| whitepeopletwitter \t| blackpeopletwitter \t|\n",
    "| jokes              \t| dadjokes           \t|\n",
    "| moviedetails       \t| shittymoviedetails \t|"
   ]
  },
  {
   "cell_type": "code",
   "execution_count": 4,
   "id": "bbc7e11c-8d3b-4913-8408-80a342a38d68",
   "metadata": {},
   "outputs": [],
   "source": [
    "base_url = 'https://api.pushshift.io/reddit/search/'\n",
    "subreddit = 'submission'\n",
    "comment = 'comment'\n",
    "\n",
    "params = {\n",
    "    'subreddit': 'shittymoviedetails',\n",
    "    'before': '1d',\n",
    "    'after' : '2d',\n",
    "    'size' : 500\n",
    "}"
   ]
  },
  {
   "cell_type": "code",
   "execution_count": 5,
   "id": "2f343be5-e84b-478a-baa8-f903b4564763",
   "metadata": {},
   "outputs": [],
   "source": [
    "#smd just stands for shitty movie details nothing else\n",
    "smd = json_to_dict(base_url+subreddit, params = params)"
   ]
  },
  {
   "cell_type": "code",
   "execution_count": 6,
   "id": "203cc9c6-f05a-4cf5-b8bc-2244dc7b93b2",
   "metadata": {},
   "outputs": [
    {
     "data": {
      "text/plain": [
       "(37, 71)"
      ]
     },
     "execution_count": 6,
     "metadata": {},
     "output_type": "execute_result"
    }
   ],
   "source": [
    "smd.shape"
   ]
  },
  {
   "cell_type": "code",
   "execution_count": 7,
   "id": "551a6b7a-8ae1-4d19-96df-74d0513ea82f",
   "metadata": {},
   "outputs": [
    {
     "data": {
      "text/html": [
       "<div>\n",
       "<style scoped>\n",
       "    .dataframe tbody tr th:only-of-type {\n",
       "        vertical-align: middle;\n",
       "    }\n",
       "\n",
       "    .dataframe tbody tr th {\n",
       "        vertical-align: top;\n",
       "    }\n",
       "\n",
       "    .dataframe thead th {\n",
       "        text-align: right;\n",
       "    }\n",
       "</style>\n",
       "<table border=\"1\" class=\"dataframe\">\n",
       "  <thead>\n",
       "    <tr style=\"text-align: right;\">\n",
       "      <th></th>\n",
       "      <th>all_awardings</th>\n",
       "      <th>allow_live_comments</th>\n",
       "      <th>author</th>\n",
       "      <th>author_flair_css_class</th>\n",
       "      <th>author_flair_richtext</th>\n",
       "      <th>author_flair_text</th>\n",
       "      <th>author_flair_type</th>\n",
       "      <th>author_fullname</th>\n",
       "      <th>author_is_blocked</th>\n",
       "      <th>author_patreon_flair</th>\n",
       "      <th>...</th>\n",
       "      <th>url</th>\n",
       "      <th>url_overridden_by_dest</th>\n",
       "      <th>whitelist_status</th>\n",
       "      <th>wls</th>\n",
       "      <th>link_flair_template_id</th>\n",
       "      <th>link_flair_text</th>\n",
       "      <th>media_metadata</th>\n",
       "      <th>author_flair_background_color</th>\n",
       "      <th>author_flair_text_color</th>\n",
       "      <th>removed_by_category</th>\n",
       "    </tr>\n",
       "  </thead>\n",
       "  <tbody>\n",
       "    <tr>\n",
       "      <th>0</th>\n",
       "      <td>[]</td>\n",
       "      <td>False</td>\n",
       "      <td>SnowySergal</td>\n",
       "      <td>None</td>\n",
       "      <td>[]</td>\n",
       "      <td>None</td>\n",
       "      <td>text</td>\n",
       "      <td>t2_1a37frbn</td>\n",
       "      <td>False</td>\n",
       "      <td>False</td>\n",
       "      <td>...</td>\n",
       "      <td>https://i.redd.it/o4dzkwai9h581.png</td>\n",
       "      <td>https://i.redd.it/o4dzkwai9h581.png</td>\n",
       "      <td>some_ads</td>\n",
       "      <td>7</td>\n",
       "      <td>NaN</td>\n",
       "      <td>NaN</td>\n",
       "      <td>NaN</td>\n",
       "      <td>NaN</td>\n",
       "      <td>NaN</td>\n",
       "      <td>NaN</td>\n",
       "    </tr>\n",
       "    <tr>\n",
       "      <th>1</th>\n",
       "      <td>[]</td>\n",
       "      <td>False</td>\n",
       "      <td>Stony_Hawk</td>\n",
       "      <td>None</td>\n",
       "      <td>[]</td>\n",
       "      <td>None</td>\n",
       "      <td>text</td>\n",
       "      <td>t2_1v5p7iz1</td>\n",
       "      <td>False</td>\n",
       "      <td>False</td>\n",
       "      <td>...</td>\n",
       "      <td>https://i.redd.it/q334kezgdh581.jpg</td>\n",
       "      <td>https://i.redd.it/q334kezgdh581.jpg</td>\n",
       "      <td>some_ads</td>\n",
       "      <td>7</td>\n",
       "      <td>NaN</td>\n",
       "      <td>NaN</td>\n",
       "      <td>NaN</td>\n",
       "      <td>NaN</td>\n",
       "      <td>NaN</td>\n",
       "      <td>NaN</td>\n",
       "    </tr>\n",
       "    <tr>\n",
       "      <th>2</th>\n",
       "      <td>[]</td>\n",
       "      <td>False</td>\n",
       "      <td>RutabagaMundane5354</td>\n",
       "      <td>None</td>\n",
       "      <td>[]</td>\n",
       "      <td>None</td>\n",
       "      <td>text</td>\n",
       "      <td>t2_8s834k49</td>\n",
       "      <td>False</td>\n",
       "      <td>False</td>\n",
       "      <td>...</td>\n",
       "      <td>https://i.redd.it/fb06t9s9jh581.jpg</td>\n",
       "      <td>https://i.redd.it/fb06t9s9jh581.jpg</td>\n",
       "      <td>some_ads</td>\n",
       "      <td>7</td>\n",
       "      <td>22f83518-96c7-11e7-a9d8-0e93623777de</td>\n",
       "      <td>default</td>\n",
       "      <td>NaN</td>\n",
       "      <td>NaN</td>\n",
       "      <td>NaN</td>\n",
       "      <td>NaN</td>\n",
       "    </tr>\n",
       "    <tr>\n",
       "      <th>3</th>\n",
       "      <td>[]</td>\n",
       "      <td>False</td>\n",
       "      <td>nem_v_39</td>\n",
       "      <td>None</td>\n",
       "      <td>[]</td>\n",
       "      <td>None</td>\n",
       "      <td>text</td>\n",
       "      <td>t2_b1ozx31l</td>\n",
       "      <td>False</td>\n",
       "      <td>False</td>\n",
       "      <td>...</td>\n",
       "      <td>https://i.redd.it/b2pu2blvmh581.gif</td>\n",
       "      <td>https://i.redd.it/b2pu2blvmh581.gif</td>\n",
       "      <td>some_ads</td>\n",
       "      <td>7</td>\n",
       "      <td>3a64c3c6-82f1-11e8-b314-0e08f82792dc</td>\n",
       "      <td>Turd</td>\n",
       "      <td>NaN</td>\n",
       "      <td>NaN</td>\n",
       "      <td>NaN</td>\n",
       "      <td>NaN</td>\n",
       "    </tr>\n",
       "    <tr>\n",
       "      <th>4</th>\n",
       "      <td>[]</td>\n",
       "      <td>False</td>\n",
       "      <td>ALV1DA</td>\n",
       "      <td>None</td>\n",
       "      <td>[]</td>\n",
       "      <td>None</td>\n",
       "      <td>text</td>\n",
       "      <td>t2_h55dlv98</td>\n",
       "      <td>False</td>\n",
       "      <td>False</td>\n",
       "      <td>...</td>\n",
       "      <td>https://i.redd.it/467hw7hath581.jpg</td>\n",
       "      <td>https://i.redd.it/467hw7hath581.jpg</td>\n",
       "      <td>some_ads</td>\n",
       "      <td>7</td>\n",
       "      <td>NaN</td>\n",
       "      <td>NaN</td>\n",
       "      <td>NaN</td>\n",
       "      <td>NaN</td>\n",
       "      <td>NaN</td>\n",
       "      <td>NaN</td>\n",
       "    </tr>\n",
       "  </tbody>\n",
       "</table>\n",
       "<p>5 rows × 71 columns</p>\n",
       "</div>"
      ],
      "text/plain": [
       "  all_awardings  allow_live_comments               author  \\\n",
       "0            []                False          SnowySergal   \n",
       "1            []                False           Stony_Hawk   \n",
       "2            []                False  RutabagaMundane5354   \n",
       "3            []                False             nem_v_39   \n",
       "4            []                False               ALV1DA   \n",
       "\n",
       "  author_flair_css_class author_flair_richtext author_flair_text  \\\n",
       "0                   None                    []              None   \n",
       "1                   None                    []              None   \n",
       "2                   None                    []              None   \n",
       "3                   None                    []              None   \n",
       "4                   None                    []              None   \n",
       "\n",
       "  author_flair_type author_fullname  author_is_blocked  author_patreon_flair  \\\n",
       "0              text     t2_1a37frbn              False                 False   \n",
       "1              text     t2_1v5p7iz1              False                 False   \n",
       "2              text     t2_8s834k49              False                 False   \n",
       "3              text     t2_b1ozx31l              False                 False   \n",
       "4              text     t2_h55dlv98              False                 False   \n",
       "\n",
       "   ...                                  url  \\\n",
       "0  ...  https://i.redd.it/o4dzkwai9h581.png   \n",
       "1  ...  https://i.redd.it/q334kezgdh581.jpg   \n",
       "2  ...  https://i.redd.it/fb06t9s9jh581.jpg   \n",
       "3  ...  https://i.redd.it/b2pu2blvmh581.gif   \n",
       "4  ...  https://i.redd.it/467hw7hath581.jpg   \n",
       "\n",
       "                url_overridden_by_dest  whitelist_status  wls  \\\n",
       "0  https://i.redd.it/o4dzkwai9h581.png          some_ads    7   \n",
       "1  https://i.redd.it/q334kezgdh581.jpg          some_ads    7   \n",
       "2  https://i.redd.it/fb06t9s9jh581.jpg          some_ads    7   \n",
       "3  https://i.redd.it/b2pu2blvmh581.gif          some_ads    7   \n",
       "4  https://i.redd.it/467hw7hath581.jpg          some_ads    7   \n",
       "\n",
       "                 link_flair_template_id link_flair_text media_metadata  \\\n",
       "0                                   NaN             NaN            NaN   \n",
       "1                                   NaN             NaN            NaN   \n",
       "2  22f83518-96c7-11e7-a9d8-0e93623777de         default            NaN   \n",
       "3  3a64c3c6-82f1-11e8-b314-0e08f82792dc            Turd            NaN   \n",
       "4                                   NaN             NaN            NaN   \n",
       "\n",
       "  author_flair_background_color author_flair_text_color  removed_by_category  \n",
       "0                           NaN                     NaN                  NaN  \n",
       "1                           NaN                     NaN                  NaN  \n",
       "2                           NaN                     NaN                  NaN  \n",
       "3                           NaN                     NaN                  NaN  \n",
       "4                           NaN                     NaN                  NaN  \n",
       "\n",
       "[5 rows x 71 columns]"
      ]
     },
     "execution_count": 7,
     "metadata": {},
     "output_type": "execute_result"
    }
   ],
   "source": [
    "smd.head()"
   ]
  },
  {
   "cell_type": "code",
   "execution_count": 8,
   "id": "436cf5ba-dd94-49d0-8d04-4e6ce2a1f0e9",
   "metadata": {},
   "outputs": [],
   "source": [
    "smd['title'];"
   ]
  },
  {
   "cell_type": "markdown",
   "id": "7ee81651-2cde-40de-b5f8-385ecc59965b",
   "metadata": {},
   "source": [
    "Since we can only get 100 submissions at a time, we're going to have to abuse the hell out of multiple requests"
   ]
  },
  {
   "cell_type": "markdown",
   "id": "770494c1-512e-40f6-9206-1a714eb718c1",
   "metadata": {
    "tags": []
   },
   "source": [
    "# Data Aquisition"
   ]
  },
  {
   "cell_type": "code",
   "execution_count": 21,
   "id": "5a619440-29c0-4d92-bec3-d2f4c18fc1b8",
   "metadata": {},
   "outputs": [
    {
     "name": "stdout",
     "output_type": "stream",
     "text": [
      "Wall time: 3min 2s\n"
     ]
    }
   ],
   "source": [
    "%%time\n",
    "\n",
    "smd_df = get_x_days_posts(url = base_url + subreddit, \n",
    "                 subreddit='shittymoviedetails',\n",
    "                 days = 900);"
   ]
  },
  {
   "cell_type": "code",
   "execution_count": 22,
   "id": "5471aaf3-815d-45d4-9a86-baaa61fa3486",
   "metadata": {},
   "outputs": [
    {
     "data": {
      "text/plain": [
       "(7680, 87)"
      ]
     },
     "execution_count": 22,
     "metadata": {},
     "output_type": "execute_result"
    }
   ],
   "source": [
    "smd_df.shape"
   ]
  },
  {
   "cell_type": "code",
   "execution_count": 23,
   "id": "f40436b5-9b80-4f48-8411-378e92ce5760",
   "metadata": {},
   "outputs": [
    {
     "data": {
      "text/plain": [
       "Index(['all_awardings', 'allow_live_comments', 'author',\n",
       "       'author_flair_css_class', 'author_flair_richtext', 'author_flair_text',\n",
       "       'author_flair_type', 'author_fullname', 'author_is_blocked',\n",
       "       'author_patreon_flair', 'author_premium', 'awarders', 'can_mod_post',\n",
       "       'contest_mode', 'created_utc', 'domain', 'full_link', 'gildings', 'id',\n",
       "       'is_created_from_ads_ui', 'is_crosspostable', 'is_meta',\n",
       "       'is_original_content', 'is_reddit_media_domain', 'is_robot_indexable',\n",
       "       'is_self', 'is_video', 'link_flair_background_color',\n",
       "       'link_flair_richtext', 'link_flair_text_color', 'link_flair_type',\n",
       "       'locked', 'media_only', 'no_follow', 'num_comments', 'num_crossposts',\n",
       "       'over_18', 'parent_whitelist_status', 'permalink', 'pinned',\n",
       "       'post_hint', 'preview', 'pwls', 'retrieved_on', 'score', 'selftext',\n",
       "       'send_replies', 'spoiler', 'stickied', 'subreddit', 'subreddit_id',\n",
       "       'subreddit_subscribers', 'subreddit_type', 'suggested_sort',\n",
       "       'thumbnail', 'thumbnail_height', 'thumbnail_width', 'title',\n",
       "       'total_awards_received', 'treatment_tags', 'upvote_ratio', 'url',\n",
       "       'url_overridden_by_dest', 'whitelist_status', 'wls',\n",
       "       'link_flair_template_id', 'link_flair_text',\n",
       "       'author_flair_background_color', 'author_flair_text_color',\n",
       "       'removed_by_category', 'media', 'media_embed', 'secure_media',\n",
       "       'secure_media_embed', 'media_metadata', 'banned_by',\n",
       "       'author_flair_template_id', 'gallery_data', 'is_gallery',\n",
       "       'author_cakeday', 'edited', 'steward_reports', 'removed_by',\n",
       "       'updated_utc', 'gilded', 'og_description', 'og_title'],\n",
       "      dtype='object')"
      ]
     },
     "execution_count": 23,
     "metadata": {},
     "output_type": "execute_result"
    }
   ],
   "source": [
    "smd_df.columns"
   ]
  },
  {
   "cell_type": "code",
   "execution_count": 24,
   "id": "466eba6c-4c96-449a-939d-0284f1d218b9",
   "metadata": {},
   "outputs": [
    {
     "data": {
      "text/plain": [
       "(7524,)"
      ]
     },
     "execution_count": 24,
     "metadata": {},
     "output_type": "execute_result"
    }
   ],
   "source": [
    "smd_df['title'].unique().shape"
   ]
  },
  {
   "cell_type": "code",
   "execution_count": 25,
   "id": "1f79ff7b-6c16-4277-8712-e4ca092012b0",
   "metadata": {},
   "outputs": [
    {
     "name": "stdout",
     "output_type": "stream",
     "text": [
      "Wall time: 2min 28s\n"
     ]
    }
   ],
   "source": [
    "%%time\n",
    "\n",
    "md_df = get_x_days_posts(url = base_url + subreddit, \n",
    "                 subreddit='moviedetails',\n",
    "                 days = 900)"
   ]
  },
  {
   "cell_type": "code",
   "execution_count": 26,
   "id": "bc91c351-3f90-4bbd-ac71-a0c6cb3750a7",
   "metadata": {},
   "outputs": [
    {
     "data": {
      "text/plain": [
       "(7186, 89)"
      ]
     },
     "execution_count": 26,
     "metadata": {},
     "output_type": "execute_result"
    }
   ],
   "source": [
    "md_df.shape"
   ]
  },
  {
   "cell_type": "markdown",
   "id": "b31a3096-1dc1-459a-b154-60ffe0708de1",
   "metadata": {},
   "source": [
    "Difference in column comes from "
   ]
  },
  {
   "cell_type": "code",
   "execution_count": 27,
   "id": "45399291-2e78-4993-9492-5a626cc854d0",
   "metadata": {},
   "outputs": [
    {
     "data": {
      "text/plain": [
       "[]"
      ]
     },
     "execution_count": 27,
     "metadata": {},
     "output_type": "execute_result"
    }
   ],
   "source": [
    "[col for col in smd_df.columns if col not in md_df.columns]"
   ]
  },
  {
   "cell_type": "code",
   "execution_count": 28,
   "id": "e6f29d1d-7745-4439-b0f6-5ff6e51d5c28",
   "metadata": {},
   "outputs": [
    {
     "data": {
      "text/plain": [
       "['link_flair_css_class', 'poll_data']"
      ]
     },
     "execution_count": 28,
     "metadata": {},
     "output_type": "execute_result"
    }
   ],
   "source": [
    "[col for col in md_df.columns if col not in smd_df.columns]"
   ]
  },
  {
   "cell_type": "code",
   "execution_count": 29,
   "id": "49747690-d17f-4a5c-9478-2c2f155cded3",
   "metadata": {},
   "outputs": [],
   "source": [
    "smd_df['subreddit'] = 1"
   ]
  },
  {
   "cell_type": "code",
   "execution_count": 30,
   "id": "69813a02-2313-4095-90ed-e8cdb2731e4c",
   "metadata": {},
   "outputs": [],
   "source": [
    "md_df['subreddit'] = 0"
   ]
  },
  {
   "cell_type": "markdown",
   "id": "ded16a20-b7d6-4c39-b51c-0c9a5438e44d",
   "metadata": {},
   "source": [
    "subreddit:\n",
    "\n",
    "    ShittyMovieDetails = 1\n",
    "    MovieDetails = 0"
   ]
  },
  {
   "cell_type": "code",
   "execution_count": 31,
   "id": "ecd192df-da4c-4b55-83d4-e4fabc7df2d9",
   "metadata": {},
   "outputs": [],
   "source": [
    "data = pd.concat([smd_df,md_df], axis=0)"
   ]
  },
  {
   "cell_type": "markdown",
   "id": "6499fe7a-62cf-4402-9266-2c5727756b3e",
   "metadata": {
    "tags": []
   },
   "source": [
    "# Export"
   ]
  },
  {
   "cell_type": "code",
   "execution_count": 32,
   "id": "a48b48bc-1af4-4ae1-9a32-a3e91fe1dc56",
   "metadata": {},
   "outputs": [],
   "source": [
    "data.to_csv('./data/subreddit_posts.csv',index=False)"
   ]
  },
  {
   "cell_type": "code",
   "execution_count": null,
   "id": "3da75349-f1ae-4c45-bee2-7c8bad14b0da",
   "metadata": {},
   "outputs": [],
   "source": []
  }
 ],
 "metadata": {
  "kernelspec": {
   "display_name": "Python 3",
   "language": "python",
   "name": "python3"
  },
  "language_info": {
   "codemirror_mode": {
    "name": "ipython",
    "version": 3
   },
   "file_extension": ".py",
   "mimetype": "text/x-python",
   "name": "python",
   "nbconvert_exporter": "python",
   "pygments_lexer": "ipython3",
   "version": "3.8.8"
  }
 },
 "nbformat": 4,
 "nbformat_minor": 5
}
