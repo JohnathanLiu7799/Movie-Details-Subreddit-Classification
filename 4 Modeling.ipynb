{
 "cells": [
  {
   "cell_type": "markdown",
   "id": "29d0d043-3780-431e-b79f-65407efaf429",
   "metadata": {
    "tags": []
   },
   "source": [
    "# Imports"
   ]
  },
  {
   "cell_type": "code",
   "execution_count": 85,
   "id": "80015847-10fb-4e7f-acac-b744906fb059",
   "metadata": {},
   "outputs": [],
   "source": [
    "import pandas as pd\n",
    "import matplotlib.pyplot as plt\n",
    "import numpy as np\n",
    "import seaborn as sns"
   ]
  },
  {
   "cell_type": "code",
   "execution_count": 149,
   "id": "bd0fa33b-a0c5-4e34-a5b8-cd04f680b9fd",
   "metadata": {},
   "outputs": [],
   "source": [
    "from sklearn.model_selection import train_test_split, GridSearchCV\n",
    "from sklearn.feature_extraction.text import CountVectorizer, TfidfVectorizer\n",
    "from sklearn.naive_bayes import MultinomialNB\n",
    "from sklearn.pipeline import Pipeline\n",
    "from sklearn.metrics import confusion_matrix, plot_confusion_matrix\n",
    "from sklearn.linear_model import LogisticRegression\n",
    "from sklearn.ensemble import RandomForestClassifier\n",
    "from sklearn.preprocessing import StandardScaler\n",
    "from sklearn.ensemble import AdaBoostClassifier\n",
    "from xgboost import XGBClassifier\n",
    "\n",
    "from tensorflow.keras.models import Sequential\n",
    "from tensorflow.keras.layers import Dense"
   ]
  },
  {
   "cell_type": "code",
   "execution_count": 87,
   "id": "3ac3f5dc-d112-4d32-a0c6-e0cec41dc776",
   "metadata": {},
   "outputs": [],
   "source": [
    "df = pd.read_csv('./data/cleaned_posts.csv')"
   ]
  },
  {
   "cell_type": "code",
   "execution_count": 88,
   "id": "5c26979e-aa12-4081-b97f-e34eff28188d",
   "metadata": {},
   "outputs": [],
   "source": [
    "X = df['title']\n",
    "y = df['subreddit']"
   ]
  },
  {
   "cell_type": "code",
   "execution_count": 89,
   "id": "3529fcae-0386-4475-9fb8-445282367b83",
   "metadata": {},
   "outputs": [
    {
     "data": {
      "text/plain": [
       "0        CONFIRMED: The Matrix Resurrections will NOT b...\n",
       "1        They used the Pirate Bay logo as the backgroun...\n",
       "2        In Avengers age of Ultron, Hawkeye finishes ki...\n",
       "3        In Cabin in the Woods (2012) a scientist is ki...\n",
       "4        Peter Jackson, in his Lord Of The Rings film t...\n",
       "                               ...                        \n",
       "11186    Probably already been mentioned, but I only pi...\n",
       "11187    In Star Wars: Episode 1 - The Phantom Menace, ...\n",
       "11188    From Spider-Man: Into The Spider-Verse (2019):...\n",
       "11189    From Spider-Man: Into The Spider-Verse (2019):...\n",
       "11190    In Logan (2017), Logan berates Laura for readi...\n",
       "Name: title, Length: 11191, dtype: object"
      ]
     },
     "execution_count": 89,
     "metadata": {},
     "output_type": "execute_result"
    }
   ],
   "source": [
    "X"
   ]
  },
  {
   "cell_type": "code",
   "execution_count": 90,
   "id": "5a3f3f09-9cfe-423b-b886-9430d49baa9e",
   "metadata": {},
   "outputs": [],
   "source": [
    "X_train, X_test, y_train, y_test = train_test_split(X,y,\n",
    "                                                   stratify=y,\n",
    "                                                   test_size = .3,\n",
    "                                                   random_state=42)"
   ]
  },
  {
   "cell_type": "code",
   "execution_count": 91,
   "id": "69d54032-8b58-4669-a2b7-ae76d989f0d6",
   "metadata": {},
   "outputs": [],
   "source": [
    "cvec = CountVectorizer(max_df=.9)"
   ]
  },
  {
   "cell_type": "code",
   "execution_count": 92,
   "id": "189dc9bc-b2d6-4d37-8d28-de78d46ccee1",
   "metadata": {},
   "outputs": [],
   "source": [
    "X_train = cvec.fit_transform(X_train)\n",
    "features = cvec.get_feature_names()"
   ]
  },
  {
   "cell_type": "code",
   "execution_count": 93,
   "id": "01392212-14f9-47c0-8f76-27402681b64d",
   "metadata": {},
   "outputs": [],
   "source": [
    "X_test = cvec.transform(X_test)"
   ]
  },
  {
   "cell_type": "code",
   "execution_count": 94,
   "id": "0825f02f-c232-412d-a471-0535575a0d0b",
   "metadata": {},
   "outputs": [
    {
     "data": {
      "text/plain": [
       "(3358, 18358)"
      ]
     },
     "execution_count": 94,
     "metadata": {},
     "output_type": "execute_result"
    }
   ],
   "source": [
    "X_test.shape"
   ]
  },
  {
   "cell_type": "code",
   "execution_count": 95,
   "id": "acad8ed8-7fab-403e-af7a-2d19bbb4a96c",
   "metadata": {},
   "outputs": [
    {
     "data": {
      "text/plain": [
       "(7833, 18358)"
      ]
     },
     "execution_count": 95,
     "metadata": {},
     "output_type": "execute_result"
    }
   ],
   "source": [
    "X_train.shape"
   ]
  },
  {
   "cell_type": "markdown",
   "id": "3e160e95-2c6f-43dc-800b-b2efab85881d",
   "metadata": {
    "tags": []
   },
   "source": [
    "# Helper Functions"
   ]
  },
  {
   "cell_type": "code",
   "execution_count": 96,
   "id": "209092bc-fd17-49a7-b7c1-8f45b65acd9d",
   "metadata": {},
   "outputs": [],
   "source": [
    "def get_clasisification_metrics(model, X_test, y_test):\n",
    "    \n",
    "    \"\"\"\n",
    "    Method used to create a classification matrix along with calculated classification metrics\n",
    "    \"\"\"\n",
    "    \n",
    "    preds = model.predict(X_test)\n",
    "    \n",
    "    tn, fp, fn, tp = confusion_matrix(y_test, preds).ravel()\n",
    "    \n",
    "    plot_confusion_matrix(gs, X_test, y_test, \n",
    "                          cmap='Blues', \n",
    "                          values_format = 'd')\n",
    "    \n",
    "    print(f'Accuracy: {(tp + tn)/(tp+tn+fp+fn)}')\n",
    "    print(f'Specificity: {(tn)/(tn+fp)}')\n",
    "    print(f'Precision: {(tp)/(tp+fp)}')\n",
    "    print(f'Recall: {(tp)/(tp+fn)}')\n",
    "    \n",
    "    return\n",
    "    "
   ]
  },
  {
   "cell_type": "code",
   "execution_count": 97,
   "id": "6c5b918f-f58d-41d8-81bf-36ab18a8f216",
   "metadata": {},
   "outputs": [],
   "source": [
    "def markdown_prep(text):\n",
    "    \n",
    "    \"\"\"\n",
    "    Used to prepare the classification metrics for markdown\n",
    "    \"\"\"\n",
    "    \n",
    "    text_list = text.split('\\n')\n",
    "    list_items = [f'<li>{line}</li>' for line in text_list]\n",
    "    string = \"\"\n",
    "    for line in list_items:\n",
    "        string += line\n",
    "        string += '\\n\\t'\n",
    "    print(f\"\"\"\n",
    "    <details>\n",
    "    <summary> Train Results </summary>\n",
    "    \n",
    "    <ul>\n",
    "        {string}\n",
    "        \n",
    "    </details>\"\"\")"
   ]
  },
  {
   "cell_type": "markdown",
   "id": "8db0b652-ec83-4375-9c5e-8538cc87bcc5",
   "metadata": {
    "tags": []
   },
   "source": [
    "# Model 1 \n",
    "\n",
    "Count Vectorizer + MultinomialNB\n",
    "\n",
    "\n",
    "<details>\n",
    "<summary> Train Results </summary>\n",
    "\n",
    "<ul>\n",
    "    <li>Accuracy: 0.8927613941018767</li>\n",
    "<li>Specificity: 0.8656902461826114</li>\n",
    "<li>Precision: 0.9072320275505812</li>\n",
    "<li>Recall: 0.9115484429065744</li>\n",
    "\n",
    "\n",
    "</details>\n",
    "\n",
    "        \n",
    "\n",
    "<details>\n",
    "<summary> Test Results </summary>\n",
    "\n",
    "<ul>\n",
    "    <li>Accuracy: 0.8025610482430018</li>\n",
    "<li>Specificity: 0.7354651162790697</li>\n",
    "<li>Precision: 0.8221787982413288</li>\n",
    "<li>Recall: 0.8491422805247225</li>\n",
    "\n",
    "\n",
    "</details>\n"
   ]
  },
  {
   "cell_type": "code",
   "execution_count": 98,
   "id": "4fafeec8-5f53-4d16-96b3-4c625d659f1d",
   "metadata": {},
   "outputs": [],
   "source": [
    "pipe = Pipeline([\n",
    "    ('nb', MultinomialNB())\n",
    "])"
   ]
  },
  {
   "cell_type": "code",
   "execution_count": 99,
   "id": "9a2809eb-f8b8-4fb5-b776-3fc4e8c5b28d",
   "metadata": {},
   "outputs": [],
   "source": [
    "pipe_params = {\n",
    "}"
   ]
  },
  {
   "cell_type": "code",
   "execution_count": 100,
   "id": "f9407b53-9413-4725-90f0-bd1960cb93d4",
   "metadata": {},
   "outputs": [],
   "source": [
    "gs = GridSearchCV(pipe,\n",
    "                 param_grid = pipe_params,\n",
    "                 cv = 5,\n",
    "                 n_jobs = -1)"
   ]
  },
  {
   "cell_type": "code",
   "execution_count": 101,
   "id": "90842516-25af-49bb-94d2-4b267494e9a6",
   "metadata": {},
   "outputs": [
    {
     "name": "stdout",
     "output_type": "stream",
     "text": [
      "Wall time: 1.24 s\n"
     ]
    },
    {
     "data": {
      "text/plain": [
       "GridSearchCV(cv=5, estimator=Pipeline(steps=[('nb', MultinomialNB())]),\n",
       "             n_jobs=-1, param_grid={})"
      ]
     },
     "execution_count": 101,
     "metadata": {},
     "output_type": "execute_result"
    }
   ],
   "source": [
    "%%time\n",
    "\n",
    "gs.fit(X_train, y_train)"
   ]
  },
  {
   "cell_type": "code",
   "execution_count": 102,
   "id": "d912c4bd-e4bc-470f-b22b-09e44ced2478",
   "metadata": {},
   "outputs": [
    {
     "data": {
      "text/plain": [
       "0.7945870325136659"
      ]
     },
     "execution_count": 102,
     "metadata": {},
     "output_type": "execute_result"
    }
   ],
   "source": [
    "gs.best_score_"
   ]
  },
  {
   "cell_type": "code",
   "execution_count": 103,
   "id": "fa0dc5a4-de18-45b4-8d2f-726d1d10dd3f",
   "metadata": {},
   "outputs": [
    {
     "data": {
      "text/plain": [
       "{}"
      ]
     },
     "execution_count": 103,
     "metadata": {},
     "output_type": "execute_result"
    }
   ],
   "source": [
    "gs.best_params_"
   ]
  },
  {
   "cell_type": "code",
   "execution_count": 104,
   "id": "6a37ce6a-4614-4d63-a739-bf5c3821e0e8",
   "metadata": {},
   "outputs": [
    {
     "name": "stdout",
     "output_type": "stream",
     "text": [
      "Accuracy: 0.9361674964892123\n",
      "Specificity: 0.8965409784979744\n",
      "Precision: 0.9306599832915622\n",
      "Recall: 0.9636678200692042\n"
     ]
    },
    {
     "data": {
      "image/png": "[encoded data removed]",
      "text/plain": [
       "<Figure size 432x288 with 2 Axes>"
      ]
     },
     "metadata": {
      "needs_background": "light"
     },
     "output_type": "display_data"
    }
   ],
   "source": [
    "get_clasisification_metrics(gs, X_train, y_train)"
   ]
  },
  {
   "cell_type": "code",
   "execution_count": 105,
   "id": "9a9e6471-3a25-4243-8465-d6942419cb28",
   "metadata": {},
   "outputs": [
    {
     "name": "stdout",
     "output_type": "stream",
     "text": [
      "Accuracy: 0.8028588445503275\n",
      "Specificity: 0.6693313953488372\n",
      "Precision: 0.7959641255605381\n",
      "Recall: 0.8955600403632694\n"
     ]
    },
    {
     "data": {
      "image/png": "[encoded data removed]",
      "text/plain": [
       "<Figure size 432x288 with 2 Axes>"
      ]
     },
     "metadata": {
      "needs_background": "light"
     },
     "output_type": "display_data"
    }
   ],
   "source": [
    "get_clasisification_metrics(gs, X_test, y_test)"
   ]
  },
  {
   "cell_type": "code",
   "execution_count": null,
   "id": "f58aa9ee-dee9-4cc3-b9a2-207162baac63",
   "metadata": {},
   "outputs": [],
   "source": []
  },
  {
   "cell_type": "markdown",
   "id": "2e35652c-0a8f-4a07-8eb0-3cfb0a120865",
   "metadata": {
    "tags": []
   },
   "source": [
    "# Model 2\n",
    "\n",
    "TfidVectorizer + MultinomialNB\n",
    "\n",
    "\n",
    "\n",
    "<details>\n",
    "<summary> Train Results </summary>\n",
    "\n",
    "<ul>\n",
    "    <li>Accuracy: 0.8511426018128431</li>\n",
    "<li>Specificity: 0.7320037394827049</li>\n",
    "<li>Precision: 0.8339127076091155</li>\n",
    "<li>Recall: 0.9338235294117647</li>\n",
    "\n",
    "\n",
    "</details>\n",
    "\n",
    "    \n",
    "\n",
    "<details>\n",
    "<summary> Train Results </summary>\n",
    "\n",
    "<ul>\n",
    "    <li>Accuracy: 0.7754615842763549</li>\n",
    "<li>Specificity: 0.590843023255814</li>\n",
    "<li>Precision: 0.7608326253186066</li>\n",
    "<li>Recall: 0.9036326942482341</li>\n",
    "\n",
    "\n",
    "</details>\n"
   ]
  },
  {
   "cell_type": "code",
   "execution_count": 106,
   "id": "a00cd994-1641-462c-961b-b0e7e0fc2fa6",
   "metadata": {},
   "outputs": [],
   "source": [
    "pipe = Pipeline([\n",
    "    ('nb', MultinomialNB())\n",
    "])"
   ]
  },
  {
   "cell_type": "code",
   "execution_count": 107,
   "id": "b7223c22-a075-4ce8-b618-0c865a557172",
   "metadata": {},
   "outputs": [],
   "source": [
    "pipe_params = {\n",
    "}"
   ]
  },
  {
   "cell_type": "code",
   "execution_count": 108,
   "id": "db8f0e59-65a4-4dc8-90ff-c16a3c2dd0d5",
   "metadata": {},
   "outputs": [],
   "source": [
    "gs = GridSearchCV(pipe,\n",
    "                 param_grid = pipe_params,\n",
    "                 cv=5,\n",
    "                 n_jobs=-1)"
   ]
  },
  {
   "cell_type": "code",
   "execution_count": 109,
   "id": "efefe964-24f7-4876-8947-f0ec0b6c4a41",
   "metadata": {},
   "outputs": [
    {
     "data": {
      "text/plain": [
       "GridSearchCV(cv=5, estimator=Pipeline(steps=[('nb', MultinomialNB())]),\n",
       "             n_jobs=-1, param_grid={})"
      ]
     },
     "execution_count": 109,
     "metadata": {},
     "output_type": "execute_result"
    }
   ],
   "source": [
    "gs.fit(X_train, y_train)"
   ]
  },
  {
   "cell_type": "code",
   "execution_count": 110,
   "id": "9ab44564-8bd1-4ec6-a4b6-e29a67cc06ea",
   "metadata": {},
   "outputs": [
    {
     "data": {
      "text/plain": [
       "0.7945870325136659"
      ]
     },
     "execution_count": 110,
     "metadata": {},
     "output_type": "execute_result"
    }
   ],
   "source": [
    "gs.best_score_"
   ]
  },
  {
   "cell_type": "code",
   "execution_count": 111,
   "id": "3b2278cf-2842-446d-bbf0-b1f847008d04",
   "metadata": {},
   "outputs": [
    {
     "data": {
      "text/plain": [
       "{}"
      ]
     },
     "execution_count": 111,
     "metadata": {},
     "output_type": "execute_result"
    }
   ],
   "source": [
    "gs.best_params_"
   ]
  },
  {
   "cell_type": "code",
   "execution_count": 112,
   "id": "cc505c42-bf1c-410c-a3d9-46e002125bab",
   "metadata": {},
   "outputs": [
    {
     "name": "stdout",
     "output_type": "stream",
     "text": [
      "Accuracy: 0.9361674964892123\n",
      "Specificity: 0.8965409784979744\n",
      "Precision: 0.9306599832915622\n",
      "Recall: 0.9636678200692042\n"
     ]
    },
    {
     "data": {
      "image/png": "[encoded data removed]",
      "text/plain": [
       "<Figure size 432x288 with 2 Axes>"
      ]
     },
     "metadata": {
      "needs_background": "light"
     },
     "output_type": "display_data"
    }
   ],
   "source": [
    "get_clasisification_metrics(gs, X_train, y_train)"
   ]
  },
  {
   "cell_type": "code",
   "execution_count": 113,
   "id": "1a3c052e-0798-42d4-8b40-3250997d3d38",
   "metadata": {},
   "outputs": [
    {
     "name": "stdout",
     "output_type": "stream",
     "text": [
      "Accuracy: 0.8028588445503275\n",
      "Specificity: 0.6693313953488372\n",
      "Precision: 0.7959641255605381\n",
      "Recall: 0.8955600403632694\n"
     ]
    },
    {
     "data": {
      "image/png": "[encoded data removed]",
      "text/plain": [
       "<Figure size 432x288 with 2 Axes>"
      ]
     },
     "metadata": {
      "needs_background": "light"
     },
     "output_type": "display_data"
    }
   ],
   "source": [
    "get_clasisification_metrics(gs, X_test, y_test)"
   ]
  },
  {
   "cell_type": "markdown",
   "id": "6fca85ac-079e-4a26-a152-b1345795ee98",
   "metadata": {
    "tags": []
   },
   "source": [
    "# Model 3\n",
    "\n",
    "LogisticRegression\n",
    "\n",
    "\n",
    "<details>\n",
    "<summary> Train Results </summary>\n",
    "\n",
    "    <ul>\n",
    "        <li>Accuracy: 0.9184220605132133</li>\n",
    "    <li>Specificity: 0.8918666251168589</li>\n",
    "    <li>Precision: 0.9258388544560804</li>\n",
    "    <li>Recall: 0.9368512110726643</li>\n",
    "\t\n",
    "        \n",
    "</details>\n",
    "\n",
    "\n",
    "<details>\n",
    "<summary> Test Results </summary>\n",
    "\n",
    "    <ul>\n",
    "        <li>Accuracy: 0.8189398451459202</li>\n",
    "    <li>Specificity: 0.7768895348837209</li>\n",
    "    <li>Precision: 0.8455734406438632</li>\n",
    "    <li>Recall: 0.8481331987891019</li>\n",
    "\n",
    "\n",
    "</details>\n"
   ]
  },
  {
   "cell_type": "code",
   "execution_count": 308,
   "id": "a0a93b5e-6944-4f63-9491-3f228a358ce2",
   "metadata": {},
   "outputs": [],
   "source": [
    "pipe = Pipeline([\n",
    "    ('logreg', LogisticRegression())\n",
    "])"
   ]
  },
  {
   "cell_type": "code",
   "execution_count": 309,
   "id": "25cb7140-47fe-4342-acc7-de62e3bf744e",
   "metadata": {},
   "outputs": [],
   "source": [
    "#I regret putting in this many variables immensely as I sit here staring at my screen\n",
    "#But I've come too far and I'm stuck in the sunken cost\n",
    "\n",
    "#I've abandoned ship all is lost\n",
    "pipe_params = {\n",
    "    'logreg__penalty': ['l2'],\n",
    "    'logreg__solver':['saga'],\n",
    "    'logreg__tol':[.01],\n",
    "    'logreg__C': np.linspace(1,100,10)\n",
    "}"
   ]
  },
  {
   "cell_type": "code",
   "execution_count": 310,
   "id": "37d9ca53-7b56-4ebd-a869-34bba72a21de",
   "metadata": {},
   "outputs": [],
   "source": [
    "gs = GridSearchCV(pipe,\n",
    "                 param_grid = pipe_params,\n",
    "                 cv = 5,\n",
    "                 n_jobs = -1)"
   ]
  },
  {
   "cell_type": "code",
   "execution_count": 311,
   "id": "a8ce3698-5cfd-4f15-b796-0e2f114665d9",
   "metadata": {},
   "outputs": [
    {
     "name": "stdout",
     "output_type": "stream",
     "text": [
      "Wall time: 4.48 s\n"
     ]
    },
    {
     "data": {
      "text/plain": [
       "GridSearchCV(cv=5, estimator=Pipeline(steps=[('logreg', LogisticRegression())]),\n",
       "             n_jobs=-1,\n",
       "             param_grid={'logreg__C': array([  1.,  12.,  23.,  34.,  45.,  56.,  67.,  78.,  89., 100.]),\n",
       "                         'logreg__penalty': ['l2'], 'logreg__solver': ['saga'],\n",
       "                         'logreg__tol': [0.01]})"
      ]
     },
     "execution_count": 311,
     "metadata": {},
     "output_type": "execute_result"
    }
   ],
   "source": [
    "%%time\n",
    "\n",
    "gs.fit(X_train, y_train)"
   ]
  },
  {
   "cell_type": "code",
   "execution_count": 312,
   "id": "ab52d6cc-0ddb-4934-9df0-28a1169e6cf6",
   "metadata": {},
   "outputs": [
    {
     "data": {
      "text/plain": [
       "0.8013520397143837"
      ]
     },
     "execution_count": 312,
     "metadata": {},
     "output_type": "execute_result"
    }
   ],
   "source": [
    "gs.best_score_"
   ]
  },
  {
   "cell_type": "code",
   "execution_count": 313,
   "id": "88c9d15a-9241-4b74-ac83-da1ab9f26ab0",
   "metadata": {},
   "outputs": [
    {
     "data": {
      "text/plain": [
       "{'logreg__C': 1.0,\n",
       " 'logreg__penalty': 'l2',\n",
       " 'logreg__solver': 'saga',\n",
       " 'logreg__tol': 0.01}"
      ]
     },
     "execution_count": 313,
     "metadata": {},
     "output_type": "execute_result"
    }
   ],
   "source": [
    "gs.best_params_"
   ]
  },
  {
   "cell_type": "code",
   "execution_count": 314,
   "id": "3326f987-2806-4a69-9b47-46df0540199c",
   "metadata": {},
   "outputs": [
    {
     "data": {
      "text/plain": [
       "Pipeline(steps=[('logreg', LogisticRegression(solver='saga', tol=0.01))])"
      ]
     },
     "execution_count": 314,
     "metadata": {},
     "output_type": "execute_result"
    }
   ],
   "source": [
    "gs.best_estimator_"
   ]
  },
  {
   "cell_type": "code",
   "execution_count": 316,
   "id": "3c17ab1a-146f-49de-afe4-128fbed8fc4b",
   "metadata": {},
   "outputs": [],
   "source": [
    "logreg = LogisticRegression(solver='saga',tol=0.01)"
   ]
  },
  {
   "cell_type": "code",
   "execution_count": 317,
   "id": "f6dfebfe-0d13-4060-9125-ea724000647d",
   "metadata": {},
   "outputs": [
    {
     "data": {
      "text/plain": [
       "LogisticRegression(solver='saga', tol=0.01)"
      ]
     },
     "execution_count": 317,
     "metadata": {},
     "output_type": "execute_result"
    }
   ],
   "source": [
    "logreg.fit(X_train, y_train)"
   ]
  },
  {
   "cell_type": "code",
   "execution_count": 354,
   "id": "c9cb714a-95a7-4a13-b1c2-50aa2e2e2ce1",
   "metadata": {},
   "outputs": [],
   "source": [
    "coefs = dict(zip(features,logreg.coef_[0]))"
   ]
  },
  {
   "cell_type": "code",
   "execution_count": 357,
   "id": "17cc5f40-d64b-4872-9735-ec43e2a08d0f",
   "metadata": {},
   "outputs": [
    {
     "data": {
      "text/plain": [
       "['fact',\n",
       " 'because',\n",
       " 'subtle',\n",
       " 'title',\n",
       " 'shit',\n",
       " 'fucking',\n",
       " 'despite',\n",
       " 'role',\n",
       " 'audience',\n",
       " 'cast',\n",
       " 'this',\n",
       " 'hours',\n",
       " 'franchise',\n",
       " 'actors',\n",
       " 'actor',\n",
       " 'shitty',\n",
       " 'nothing',\n",
       " 'sequel',\n",
       " 'titanic',\n",
       " 'filming',\n",
       " 'us',\n",
       " 'movie',\n",
       " 'means',\n",
       " 'protagonist',\n",
       " 'actually']"
      ]
     },
     "execution_count": 357,
     "metadata": {},
     "output_type": "execute_result"
    }
   ],
   "source": [
    "sorted(coefs, key=coefs.get, reverse=True)[:25]"
   ]
  },
  {
   "cell_type": "code",
   "execution_count": 359,
   "id": "f9de0fce-b148-4aee-9fa9-d1ce4a2d2301",
   "metadata": {},
   "outputs": [
    {
     "data": {
      "text/plain": [
       "['noticed',\n",
       " 'comments',\n",
       " '1998',\n",
       " 'similar',\n",
       " '1987',\n",
       " 'shirt',\n",
       " '1983',\n",
       " 'credits',\n",
       " 'comics',\n",
       " '2018',\n",
       " 'throughout',\n",
       " 'plate',\n",
       " '1990',\n",
       " 'opening',\n",
       " 'when',\n",
       " 'during',\n",
       " '2017',\n",
       " 'amp',\n",
       " 'else',\n",
       " 'across',\n",
       " 'behind',\n",
       " 'two',\n",
       " 'hand',\n",
       " 'shot',\n",
       " '2003']"
      ]
     },
     "execution_count": 359,
     "metadata": {},
     "output_type": "execute_result"
    }
   ],
   "source": [
    "sorted(coefs, key=coefs.get)[:25]"
   ]
  },
  {
   "cell_type": "code",
   "execution_count": 120,
   "id": "8c0605b2-4850-4274-9eee-4869e9f3fc83",
   "metadata": {},
   "outputs": [
    {
     "name": "stdout",
     "output_type": "stream",
     "text": [
      "Accuracy: 0.9286352610749393\n",
      "Specificity: 0.907759426612652\n",
      "Precision: 0.9364397680910458\n",
      "Recall: 0.9431228373702422\n"
     ]
    },
    {
     "data": {
      "image/png": "[encoded data removed]",
      "text/plain": [
       "<Figure size 432x288 with 2 Axes>"
      ]
     },
     "metadata": {
      "needs_background": "light"
     },
     "output_type": "display_data"
    }
   ],
   "source": [
    "get_clasisification_metrics(gs, X_train, y_train)"
   ]
  },
  {
   "cell_type": "code",
   "execution_count": 121,
   "id": "d9e9ed59-0b06-4ba3-a182-1228a3fe98c4",
   "metadata": {},
   "outputs": [
    {
     "name": "stdout",
     "output_type": "stream",
     "text": [
      "Accuracy: 0.8165574746873139\n",
      "Specificity: 0.7718023255813954\n",
      "Precision: 0.8425275827482447\n",
      "Recall: 0.8476286579212916\n"
     ]
    },
    {
     "data": {
      "image/png": "[encoded data removed]",
      "text/plain": [
       "<Figure size 432x288 with 2 Axes>"
      ]
     },
     "metadata": {
      "needs_background": "light"
     },
     "output_type": "display_data"
    }
   ],
   "source": [
    "get_clasisification_metrics(gs, X_test, y_test)"
   ]
  },
  {
   "cell_type": "code",
   "execution_count": null,
   "id": "db535ef9-0c3a-4b30-b686-fa6444b28a49",
   "metadata": {},
   "outputs": [],
   "source": []
  },
  {
   "cell_type": "markdown",
   "id": "c7ef68b5-2653-48b0-a8f7-49f55d6e4431",
   "metadata": {
    "tags": [],
    "toc-hr-collapsed": true
   },
   "source": [
    "# Model 4\n",
    "\n",
    "RandomForestClassifier\n",
    "\n",
    "\n",
    "<details>\n",
    "<summary> Train Results </summary>\n",
    "\n",
    "<ul>\n",
    "    <li>Accuracy: 0.9994893399719137</li>\n",
    "<li>Specificity: 0.999688376441259</li>\n",
    "<li>Precision: 0.9997836434443964</li>\n",
    "<li>Recall: 0.9993512110726643</li>\n",
    "\n",
    "\n",
    "</details>\n",
    "\n",
    "    \n",
    "    \n",
    "\n",
    "<details>\n",
    "<summary> Test Results </summary>\n",
    "\n",
    "<ul>\n",
    "    <li>Accuracy: 0.7876712328767124</li>\n",
    "<li>Specificity: 0.684593023255814</li>\n",
    "<li>Precision: 0.796911558259242</li>\n",
    "<li>Recall: 0.8592330978809284</li>\n",
    "\n",
    "\n",
    "</details>\n",
    "\n"
   ]
  },
  {
   "cell_type": "code",
   "execution_count": 123,
   "id": "4583f694-4655-4c59-9fe0-194f849bc6e6",
   "metadata": {},
   "outputs": [],
   "source": [
    "pipe = Pipeline([\n",
    "    ('rf_class', RandomForestClassifier())\n",
    "])"
   ]
  },
  {
   "cell_type": "code",
   "execution_count": 124,
   "id": "4147d7ca-04c7-4ca7-b26b-602a9fc4e19f",
   "metadata": {},
   "outputs": [],
   "source": [
    "#I regret putting in this many variables immensely as I sit here staring at my screen\n",
    "#But I've come too far and I'm stuck in the sunken cost\n",
    "\n",
    "#I've abandoned ship all is lost\n",
    "pipe_params = {\n",
    "    'rf_class__max_depth': [200,400,600],\n",
    "    'rf_class__min_samples_split': [2,5,10,30]\n",
    "}"
   ]
  },
  {
   "cell_type": "code",
   "execution_count": 125,
   "id": "d154e617-1a72-4ddb-9dc5-4130618e5dc4",
   "metadata": {},
   "outputs": [],
   "source": [
    "gs = GridSearchCV(pipe,\n",
    "                 param_grid = pipe_params,\n",
    "                 cv = 5,\n",
    "                 n_jobs = -1)"
   ]
  },
  {
   "cell_type": "code",
   "execution_count": 126,
   "id": "edf69c5d-a982-4a22-a958-f222e5c7210e",
   "metadata": {},
   "outputs": [
    {
     "name": "stdout",
     "output_type": "stream",
     "text": [
      "Wall time: 1min 46s\n"
     ]
    },
    {
     "data": {
      "text/plain": [
       "GridSearchCV(cv=5,\n",
       "             estimator=Pipeline(steps=[('rf_class', RandomForestClassifier())]),\n",
       "             n_jobs=-1,\n",
       "             param_grid={'rf_class__max_depth': [200, 400, 600],\n",
       "                         'rf_class__min_samples_split': [2, 5, 10, 30]})"
      ]
     },
     "execution_count": 126,
     "metadata": {},
     "output_type": "execute_result"
    }
   ],
   "source": [
    "%%time\n",
    "\n",
    "gs.fit(X_train, y_train)"
   ]
  },
  {
   "cell_type": "code",
   "execution_count": 127,
   "id": "2939a298-7db9-4052-adb2-573a21b58475",
   "metadata": {},
   "outputs": [
    {
     "data": {
      "text/plain": [
       "0.7809276741477522"
      ]
     },
     "execution_count": 127,
     "metadata": {},
     "output_type": "execute_result"
    }
   ],
   "source": [
    "gs.best_score_"
   ]
  },
  {
   "cell_type": "code",
   "execution_count": 128,
   "id": "d23a9dc7-abaa-406b-859b-e0a883d93b0c",
   "metadata": {},
   "outputs": [
    {
     "data": {
      "text/plain": [
       "{'rf_class__max_depth': 600, 'rf_class__min_samples_split': 10}"
      ]
     },
     "execution_count": 128,
     "metadata": {},
     "output_type": "execute_result"
    }
   ],
   "source": [
    "gs.best_params_"
   ]
  },
  {
   "cell_type": "code",
   "execution_count": 129,
   "id": "6900e12a-f8dd-4172-afd0-acd78c979345",
   "metadata": {},
   "outputs": [
    {
     "name": "stdout",
     "output_type": "stream",
     "text": [
      "Accuracy: 0.9977020298736117\n",
      "Specificity: 0.9953256466188843\n",
      "Precision: 0.9967644521138913\n",
      "Recall: 0.9993512110726643\n"
     ]
    },
    {
     "data": {
      "image/png": "[encoded data removed]",
      "text/plain": [
       "<Figure size 432x288 with 2 Axes>"
      ]
     },
     "metadata": {
      "needs_background": "light"
     },
     "output_type": "display_data"
    }
   ],
   "source": [
    "get_clasisification_metrics(gs, X_train, y_train)"
   ]
  },
  {
   "cell_type": "code",
   "execution_count": 130,
   "id": "fe9ac07c-646d-4c18-8955-2c482b69b4b7",
   "metadata": {},
   "outputs": [
    {
     "name": "stdout",
     "output_type": "stream",
     "text": [
      "Accuracy: 0.7876712328767124\n",
      "Specificity: 0.6140988372093024\n",
      "Precision: 0.7722007722007722\n",
      "Recall: 0.9081735620585267\n"
     ]
    },
    {
     "data": {
      "image/png": "[encoded data removed]",
      "text/plain": [
       "<Figure size 432x288 with 2 Axes>"
      ]
     },
     "metadata": {
      "needs_background": "light"
     },
     "output_type": "display_data"
    }
   ],
   "source": [
    "get_clasisification_metrics(gs, X_test, y_test)"
   ]
  },
  {
   "cell_type": "code",
   "execution_count": null,
   "id": "9153bcdd-dd62-4c73-9efb-695c1995ac9e",
   "metadata": {},
   "outputs": [],
   "source": []
  },
  {
   "cell_type": "markdown",
   "id": "412db3ce-aa96-4057-8fc2-85fa7352b900",
   "metadata": {
    "tags": [],
    "toc-hr-collapsed": true
   },
   "source": [
    "# Model 5\n",
    "\n",
    "AdaBoost"
   ]
  },
  {
   "cell_type": "code",
   "execution_count": 142,
   "id": "8713f0fc-b279-4578-b8a7-2957c5150f77",
   "metadata": {},
   "outputs": [],
   "source": [
    "pipe = Pipeline([\n",
    "    ('abc', AdaBoostClassifier(random_state=42))\n",
    "])"
   ]
  },
  {
   "cell_type": "code",
   "execution_count": 143,
   "id": "1de35862-6a33-4215-9cbc-6e306cae5ea6",
   "metadata": {},
   "outputs": [],
   "source": [
    "#I regret putting in this many variables immensely as I sit here staring at my screen\n",
    "#But I've come too far and I'm stuck in the sunken cost\n",
    "\n",
    "#I've abandoned ship all is lost\n",
    "pipe_params = {\n",
    "    'abc__n_estimators': [200,400,600,800,1000],\n",
    "}"
   ]
  },
  {
   "cell_type": "code",
   "execution_count": 144,
   "id": "823b42a8-e06b-4e64-b674-931769a5da99",
   "metadata": {},
   "outputs": [],
   "source": [
    "gs = GridSearchCV(pipe,\n",
    "                 param_grid = pipe_params,\n",
    "                 cv = 5,\n",
    "                 n_jobs = -1)"
   ]
  },
  {
   "cell_type": "code",
   "execution_count": 145,
   "id": "f41e37dd-4041-4f72-a9fa-2c86a8b82716",
   "metadata": {},
   "outputs": [
    {
     "data": {
      "text/plain": [
       "GridSearchCV(cv=5,\n",
       "             estimator=Pipeline(steps=[('abc',\n",
       "                                        AdaBoostClassifier(random_state=42))]),\n",
       "             n_jobs=-1,\n",
       "             param_grid={'abc__n_estimators': [200, 400, 600, 800, 1000]})"
      ]
     },
     "execution_count": 145,
     "metadata": {},
     "output_type": "execute_result"
    }
   ],
   "source": [
    "gs.fit(X_train, y_train)"
   ]
  },
  {
   "cell_type": "code",
   "execution_count": 146,
   "id": "df19a345-ca28-43eb-bdc0-b5a093d4e4c8",
   "metadata": {},
   "outputs": [
    {
     "data": {
      "text/plain": [
       "0.7640729411937298"
      ]
     },
     "execution_count": 146,
     "metadata": {},
     "output_type": "execute_result"
    }
   ],
   "source": [
    "gs.best_score_"
   ]
  },
  {
   "cell_type": "code",
   "execution_count": 148,
   "id": "bc080dc2-b09e-4f3b-9d71-590c8325b4f5",
   "metadata": {},
   "outputs": [
    {
     "data": {
      "text/plain": [
       "(0.9350185114260181, 0.7763549731983324)"
      ]
     },
     "execution_count": 148,
     "metadata": {},
     "output_type": "execute_result"
    }
   ],
   "source": [
    "gs.score(X_train, y_train), gs.score(X_test, y_test)"
   ]
  },
  {
   "cell_type": "markdown",
   "id": "62d1999e-f427-4822-a1cb-811a24cef183",
   "metadata": {
    "tags": []
   },
   "source": [
    "# Model 6\n",
    "\n",
    "XG Boost"
   ]
  },
  {
   "cell_type": "code",
   "execution_count": 273,
   "id": "f2e09241-4fd5-4cd2-90bd-e94c12f5bf54",
   "metadata": {},
   "outputs": [],
   "source": [
    "pipe = Pipeline([\n",
    "    ('xgb', XGBClassifier())\n",
    "])"
   ]
  },
  {
   "cell_type": "code",
   "execution_count": 302,
   "id": "6106966f-fde4-4d1b-9ad9-1b5c33109cbd",
   "metadata": {},
   "outputs": [],
   "source": [
    "#I regret putting in this many variables immensely as I sit here staring at my screen\n",
    "#But I've come too far and I'm stuck in the sunken cost\n",
    "\n",
    "#I've abandoned ship all is lost\n",
    "pipe_params = {\n",
    "    'xgb__booster' : ['gbtree','dart'],\n",
    "    'xgb__max_depth': [5,10,20,40,80],\n",
    "}"
   ]
  },
  {
   "cell_type": "code",
   "execution_count": 303,
   "id": "664fd412-14ef-4ddb-b5ee-d652548bd49c",
   "metadata": {},
   "outputs": [],
   "source": [
    "gs = GridSearchCV(pipe,\n",
    "                 param_grid = pipe_params,\n",
    "                 cv = 5,\n",
    "                 n_jobs = -1)"
   ]
  },
  {
   "cell_type": "code",
   "execution_count": 304,
   "id": "18baa2ee-83d9-41d1-b218-b72f9b587cd4",
   "metadata": {},
   "outputs": [
    {
     "name": "stderr",
     "output_type": "stream",
     "text": [
      "C:\\ProgramData\\Anaconda3\\envs\\dsi-111\\lib\\site-packages\\xgboost\\sklearn.py:1224: UserWarning: The use of label encoder in XGBClassifier is deprecated and will be removed in a future release. To remove this warning, do the following: 1) Pass option use_label_encoder=False when constructing XGBClassifier object; and 2) Encode your labels (y) as integers starting with 0, i.e. 0, 1, 2, ..., [num_class - 1].\n",
      "  warnings.warn(label_encoder_deprecation_msg, UserWarning)\n"
     ]
    },
    {
     "name": "stdout",
     "output_type": "stream",
     "text": [
      "[18:25:47] WARNING: C:/Users/Administrator/workspace/xgboost-win64_release_1.5.1/src/learner.cc:1115: Starting in XGBoost 1.3.0, the default evaluation metric used with the objective 'binary:logistic' was changed from 'error' to 'logloss'. Explicitly set eval_metric if you'd like to restore the old behavior.\n"
     ]
    },
    {
     "data": {
      "text/plain": [
       "GridSearchCV(cv=5,\n",
       "             estimator=Pipeline(steps=[('xgb',\n",
       "                                        XGBClassifier(base_score=None,\n",
       "                                                      booster=None,\n",
       "                                                      colsample_bylevel=None,\n",
       "                                                      colsample_bynode=None,\n",
       "                                                      colsample_bytree=None,\n",
       "                                                      enable_categorical=False,\n",
       "                                                      gamma=None, gpu_id=None,\n",
       "                                                      importance_type=None,\n",
       "                                                      interaction_constraints=None,\n",
       "                                                      learning_rate=None,\n",
       "                                                      max_delta_step=None,\n",
       "                                                      max_depth=None,\n",
       "                                                      min_child_weight=None,\n",
       "                                                      missing=nan,\n",
       "                                                      monotone_constraints=None,\n",
       "                                                      n_estimators=100,\n",
       "                                                      n_jobs=None,\n",
       "                                                      num_parallel_tree=None,\n",
       "                                                      predictor=None,\n",
       "                                                      random_state=None,\n",
       "                                                      reg_alpha=None,\n",
       "                                                      reg_lambda=None,\n",
       "                                                      scale_pos_weight=None,\n",
       "                                                      subsample=None,\n",
       "                                                      tree_method=None,\n",
       "                                                      validate_parameters=None,\n",
       "                                                      verbosity=None))]),\n",
       "             n_jobs=-1,\n",
       "             param_grid={'xgb__booster': ['gbtree', 'dart'],\n",
       "                         'xgb__max_depth': [5, 10, 20, 40, 80]})"
      ]
     },
     "execution_count": 304,
     "metadata": {},
     "output_type": "execute_result"
    }
   ],
   "source": [
    "gs.fit(X_train, y_train)"
   ]
  },
  {
   "cell_type": "code",
   "execution_count": 305,
   "id": "2ae8f9dd-2cd6-4c12-9cc9-a005227544e4",
   "metadata": {},
   "outputs": [
    {
     "data": {
      "text/plain": [
       "0.7893523103016314"
      ]
     },
     "execution_count": 305,
     "metadata": {},
     "output_type": "execute_result"
    }
   ],
   "source": [
    "gs.best_score_"
   ]
  },
  {
   "cell_type": "code",
   "execution_count": null,
   "id": "04747351-f1fd-4c31-a6bb-15da03b1777c",
   "metadata": {},
   "outputs": [],
   "source": []
  }
 ],
 "metadata": {
  "kernelspec": {
   "display_name": "Python 3",
   "language": "python",
   "name": "python3"
  },
  "language_info": {
   "codemirror_mode": {
    "name": "ipython",
    "version": 3
   },
   "file_extension": ".py",
   "mimetype": "text/x-python",
   "name": "python",
   "nbconvert_exporter": "python",
   "pygments_lexer": "ipython3",
   "version": "3.8.8"
  }
 },
 "nbformat": 4,
 "nbformat_minor": 5
}
